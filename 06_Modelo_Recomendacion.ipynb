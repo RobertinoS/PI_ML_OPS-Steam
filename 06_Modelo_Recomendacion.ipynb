{
 "cells": [
  {
   "cell_type": "markdown",
   "metadata": {},
   "source": [
    "## Modelo de Recomendacion"
   ]
  },
  {
   "cell_type": "markdown",
   "metadata": {},
   "source": [
    "### Importamos las librerias necesarias para comenzar el proceso de ETL "
   ]
  },
  {
   "cell_type": "code",
   "execution_count": 28,
   "metadata": {},
   "outputs": [],
   "source": [
    "import pandas as pd\n",
    "import numpy as np\n",
    "import herramientas\n",
    "import scipy as sp\n",
    "from sklearn.metrics.pairwise import cosine_similarity\n",
    "from sklearn.feature_extraction.text import CountVectorizer\n",
    "import operator\n",
    "\n",
    "\n",
    "import pyarrow as pa\n",
    "import pyarrow.parquet as pq"
   ]
  },
  {
   "cell_type": "markdown",
   "metadata": {},
   "source": [
    "Se leen los datos del archivo .csv y se guardan en un dataframe"
   ]
  },
  {
   "cell_type": "code",
   "execution_count": 29,
   "metadata": {},
   "outputs": [
    {
     "data": {
      "text/html": [
       "<div>\n",
       "<style scoped>\n",
       "    .dataframe tbody tr th:only-of-type {\n",
       "        vertical-align: middle;\n",
       "    }\n",
       "\n",
       "    .dataframe tbody tr th {\n",
       "        vertical-align: top;\n",
       "    }\n",
       "\n",
       "    .dataframe thead th {\n",
       "        text-align: right;\n",
       "    }\n",
       "</style>\n",
       "<table border=\"1\" class=\"dataframe\">\n",
       "  <thead>\n",
       "    <tr style=\"text-align: right;\">\n",
       "      <th></th>\n",
       "      <th>item_id</th>\n",
       "      <th>item_name</th>\n",
       "      <th>playtime_forever</th>\n",
       "      <th>user_id</th>\n",
       "      <th>items_count</th>\n",
       "      <th>steam_id</th>\n",
       "    </tr>\n",
       "  </thead>\n",
       "  <tbody>\n",
       "    <tr>\n",
       "      <th>0</th>\n",
       "      <td>10</td>\n",
       "      <td>Counter-Strike</td>\n",
       "      <td>6</td>\n",
       "      <td>76561197970982479</td>\n",
       "      <td>277</td>\n",
       "      <td>76561197970982479</td>\n",
       "    </tr>\n",
       "    <tr>\n",
       "      <th>1</th>\n",
       "      <td>20</td>\n",
       "      <td>Team Fortress Classic</td>\n",
       "      <td>0</td>\n",
       "      <td>76561197970982479</td>\n",
       "      <td>277</td>\n",
       "      <td>76561197970982479</td>\n",
       "    </tr>\n",
       "    <tr>\n",
       "      <th>2</th>\n",
       "      <td>30</td>\n",
       "      <td>Day of Defeat</td>\n",
       "      <td>7</td>\n",
       "      <td>76561197970982479</td>\n",
       "      <td>277</td>\n",
       "      <td>76561197970982479</td>\n",
       "    </tr>\n",
       "    <tr>\n",
       "      <th>3</th>\n",
       "      <td>40</td>\n",
       "      <td>Deathmatch Classic</td>\n",
       "      <td>0</td>\n",
       "      <td>76561197970982479</td>\n",
       "      <td>277</td>\n",
       "      <td>76561197970982479</td>\n",
       "    </tr>\n",
       "    <tr>\n",
       "      <th>4</th>\n",
       "      <td>50</td>\n",
       "      <td>Half-Life: Opposing Force</td>\n",
       "      <td>0</td>\n",
       "      <td>76561197970982479</td>\n",
       "      <td>277</td>\n",
       "      <td>76561197970982479</td>\n",
       "    </tr>\n",
       "    <tr>\n",
       "      <th>...</th>\n",
       "      <td>...</td>\n",
       "      <td>...</td>\n",
       "      <td>...</td>\n",
       "      <td>...</td>\n",
       "      <td>...</td>\n",
       "      <td>...</td>\n",
       "    </tr>\n",
       "    <tr>\n",
       "      <th>5094077</th>\n",
       "      <td>346330</td>\n",
       "      <td>BrainBread 2</td>\n",
       "      <td>0</td>\n",
       "      <td>76561198329548331</td>\n",
       "      <td>7</td>\n",
       "      <td>76561198329548331</td>\n",
       "    </tr>\n",
       "    <tr>\n",
       "      <th>5094078</th>\n",
       "      <td>373330</td>\n",
       "      <td>All Is Dust</td>\n",
       "      <td>0</td>\n",
       "      <td>76561198329548331</td>\n",
       "      <td>7</td>\n",
       "      <td>76561198329548331</td>\n",
       "    </tr>\n",
       "    <tr>\n",
       "      <th>5094079</th>\n",
       "      <td>388490</td>\n",
       "      <td>One Way To Die: Steam Edition</td>\n",
       "      <td>3</td>\n",
       "      <td>76561198329548331</td>\n",
       "      <td>7</td>\n",
       "      <td>76561198329548331</td>\n",
       "    </tr>\n",
       "    <tr>\n",
       "      <th>5094080</th>\n",
       "      <td>521570</td>\n",
       "      <td>You Have 10 Seconds 2</td>\n",
       "      <td>4</td>\n",
       "      <td>76561198329548331</td>\n",
       "      <td>7</td>\n",
       "      <td>76561198329548331</td>\n",
       "    </tr>\n",
       "    <tr>\n",
       "      <th>5094081</th>\n",
       "      <td>519140</td>\n",
       "      <td>Minds Eyes</td>\n",
       "      <td>3</td>\n",
       "      <td>76561198329548331</td>\n",
       "      <td>7</td>\n",
       "      <td>76561198329548331</td>\n",
       "    </tr>\n",
       "  </tbody>\n",
       "</table>\n",
       "<p>5094082 rows × 6 columns</p>\n",
       "</div>"
      ],
      "text/plain": [
       "         item_id                      item_name  playtime_forever  \\\n",
       "0             10                 Counter-Strike                 6   \n",
       "1             20          Team Fortress Classic                 0   \n",
       "2             30                  Day of Defeat                 7   \n",
       "3             40             Deathmatch Classic                 0   \n",
       "4             50      Half-Life: Opposing Force                 0   \n",
       "...          ...                            ...               ...   \n",
       "5094077   346330                   BrainBread 2                 0   \n",
       "5094078   373330                    All Is Dust                 0   \n",
       "5094079   388490  One Way To Die: Steam Edition                 3   \n",
       "5094080   521570          You Have 10 Seconds 2                 4   \n",
       "5094081   519140                     Minds Eyes                 3   \n",
       "\n",
       "                   user_id  items_count           steam_id  \n",
       "0        76561197970982479          277  76561197970982479  \n",
       "1        76561197970982479          277  76561197970982479  \n",
       "2        76561197970982479          277  76561197970982479  \n",
       "3        76561197970982479          277  76561197970982479  \n",
       "4        76561197970982479          277  76561197970982479  \n",
       "...                    ...          ...                ...  \n",
       "5094077  76561198329548331            7  76561198329548331  \n",
       "5094078  76561198329548331            7  76561198329548331  \n",
       "5094079  76561198329548331            7  76561198329548331  \n",
       "5094080  76561198329548331            7  76561198329548331  \n",
       "5094081  76561198329548331            7  76561198329548331  \n",
       "\n",
       "[5094082 rows x 6 columns]"
      ]
     },
     "execution_count": 29,
     "metadata": {},
     "output_type": "execute_result"
    }
   ],
   "source": [
    "df_games=pd.read_csv(r'data\\steam_games_limpio.csv')\n",
    "df_items=pd.read_csv(r'data\\user_items_limpio.csv')\n",
    "df_items"
   ]
  },
  {
   "cell_type": "markdown",
   "metadata": {},
   "source": [
    "Verificamos la existencia de nulos y los tipos de datos de las columnas de los dataframes "
   ]
  },
  {
   "cell_type": "code",
   "execution_count": 30,
   "metadata": {},
   "outputs": [
    {
     "data": {
      "text/html": [
       "<div>\n",
       "<style scoped>\n",
       "    .dataframe tbody tr th:only-of-type {\n",
       "        vertical-align: middle;\n",
       "    }\n",
       "\n",
       "    .dataframe tbody tr th {\n",
       "        vertical-align: top;\n",
       "    }\n",
       "\n",
       "    .dataframe thead th {\n",
       "        text-align: right;\n",
       "    }\n",
       "</style>\n",
       "<table border=\"1\" class=\"dataframe\">\n",
       "  <thead>\n",
       "    <tr style=\"text-align: right;\">\n",
       "      <th></th>\n",
       "      <th>nombre_campo</th>\n",
       "      <th>tipo_datos</th>\n",
       "      <th>no_nulos_%</th>\n",
       "      <th>nulos_%</th>\n",
       "      <th>nulos</th>\n",
       "    </tr>\n",
       "  </thead>\n",
       "  <tbody>\n",
       "    <tr>\n",
       "      <th>0</th>\n",
       "      <td>genres</td>\n",
       "      <td>[&lt;class 'str'&gt;]</td>\n",
       "      <td>100.00</td>\n",
       "      <td>0.00</td>\n",
       "      <td>0</td>\n",
       "    </tr>\n",
       "    <tr>\n",
       "      <th>1</th>\n",
       "      <td>price</td>\n",
       "      <td>[&lt;class 'float'&gt;]</td>\n",
       "      <td>100.00</td>\n",
       "      <td>0.00</td>\n",
       "      <td>0</td>\n",
       "    </tr>\n",
       "    <tr>\n",
       "      <th>2</th>\n",
       "      <td>early_access</td>\n",
       "      <td>[&lt;class 'bool'&gt;]</td>\n",
       "      <td>100.00</td>\n",
       "      <td>0.00</td>\n",
       "      <td>0</td>\n",
       "    </tr>\n",
       "    <tr>\n",
       "      <th>3</th>\n",
       "      <td>id</td>\n",
       "      <td>[&lt;class 'int'&gt;]</td>\n",
       "      <td>100.00</td>\n",
       "      <td>0.00</td>\n",
       "      <td>0</td>\n",
       "    </tr>\n",
       "    <tr>\n",
       "      <th>4</th>\n",
       "      <td>release_anio</td>\n",
       "      <td>[&lt;class 'str'&gt;]</td>\n",
       "      <td>100.00</td>\n",
       "      <td>0.00</td>\n",
       "      <td>0</td>\n",
       "    </tr>\n",
       "    <tr>\n",
       "      <th>5</th>\n",
       "      <td>publisher</td>\n",
       "      <td>[&lt;class 'str'&gt;, &lt;class 'float'&gt;]</td>\n",
       "      <td>99.93</td>\n",
       "      <td>0.07</td>\n",
       "      <td>47</td>\n",
       "    </tr>\n",
       "    <tr>\n",
       "      <th>6</th>\n",
       "      <td>title</td>\n",
       "      <td>[&lt;class 'str'&gt;]</td>\n",
       "      <td>100.00</td>\n",
       "      <td>0.00</td>\n",
       "      <td>0</td>\n",
       "    </tr>\n",
       "    <tr>\n",
       "      <th>7</th>\n",
       "      <td>developer</td>\n",
       "      <td>[&lt;class 'str'&gt;]</td>\n",
       "      <td>100.00</td>\n",
       "      <td>0.00</td>\n",
       "      <td>0</td>\n",
       "    </tr>\n",
       "  </tbody>\n",
       "</table>\n",
       "</div>"
      ],
      "text/plain": [
       "   nombre_campo                        tipo_datos  no_nulos_%  nulos_%  nulos\n",
       "0        genres                   [<class 'str'>]      100.00     0.00      0\n",
       "1         price                 [<class 'float'>]      100.00     0.00      0\n",
       "2  early_access                  [<class 'bool'>]      100.00     0.00      0\n",
       "3            id                   [<class 'int'>]      100.00     0.00      0\n",
       "4  release_anio                   [<class 'str'>]      100.00     0.00      0\n",
       "5     publisher  [<class 'str'>, <class 'float'>]       99.93     0.07     47\n",
       "6         title                   [<class 'str'>]      100.00     0.00      0\n",
       "7     developer                   [<class 'str'>]      100.00     0.00      0"
      ]
     },
     "execution_count": 30,
     "metadata": {},
     "output_type": "execute_result"
    }
   ],
   "source": [
    "herramientas.verifica_tipo_y_nulos(df_games)"
   ]
  },
  {
   "cell_type": "code",
   "execution_count": 31,
   "metadata": {},
   "outputs": [
    {
     "data": {
      "text/html": [
       "<div>\n",
       "<style scoped>\n",
       "    .dataframe tbody tr th:only-of-type {\n",
       "        vertical-align: middle;\n",
       "    }\n",
       "\n",
       "    .dataframe tbody tr th {\n",
       "        vertical-align: top;\n",
       "    }\n",
       "\n",
       "    .dataframe thead th {\n",
       "        text-align: right;\n",
       "    }\n",
       "</style>\n",
       "<table border=\"1\" class=\"dataframe\">\n",
       "  <thead>\n",
       "    <tr style=\"text-align: right;\">\n",
       "      <th></th>\n",
       "      <th>nombre_campo</th>\n",
       "      <th>tipo_datos</th>\n",
       "      <th>no_nulos_%</th>\n",
       "      <th>nulos_%</th>\n",
       "      <th>nulos</th>\n",
       "    </tr>\n",
       "  </thead>\n",
       "  <tbody>\n",
       "    <tr>\n",
       "      <th>0</th>\n",
       "      <td>item_id</td>\n",
       "      <td>[&lt;class 'int'&gt;]</td>\n",
       "      <td>100.0</td>\n",
       "      <td>0.0</td>\n",
       "      <td>0</td>\n",
       "    </tr>\n",
       "    <tr>\n",
       "      <th>1</th>\n",
       "      <td>item_name</td>\n",
       "      <td>[&lt;class 'str'&gt;]</td>\n",
       "      <td>100.0</td>\n",
       "      <td>0.0</td>\n",
       "      <td>0</td>\n",
       "    </tr>\n",
       "    <tr>\n",
       "      <th>2</th>\n",
       "      <td>playtime_forever</td>\n",
       "      <td>[&lt;class 'int'&gt;]</td>\n",
       "      <td>100.0</td>\n",
       "      <td>0.0</td>\n",
       "      <td>0</td>\n",
       "    </tr>\n",
       "    <tr>\n",
       "      <th>3</th>\n",
       "      <td>user_id</td>\n",
       "      <td>[&lt;class 'str'&gt;]</td>\n",
       "      <td>100.0</td>\n",
       "      <td>0.0</td>\n",
       "      <td>0</td>\n",
       "    </tr>\n",
       "    <tr>\n",
       "      <th>4</th>\n",
       "      <td>items_count</td>\n",
       "      <td>[&lt;class 'int'&gt;]</td>\n",
       "      <td>100.0</td>\n",
       "      <td>0.0</td>\n",
       "      <td>0</td>\n",
       "    </tr>\n",
       "    <tr>\n",
       "      <th>5</th>\n",
       "      <td>steam_id</td>\n",
       "      <td>[&lt;class 'int'&gt;]</td>\n",
       "      <td>100.0</td>\n",
       "      <td>0.0</td>\n",
       "      <td>0</td>\n",
       "    </tr>\n",
       "  </tbody>\n",
       "</table>\n",
       "</div>"
      ],
      "text/plain": [
       "       nombre_campo       tipo_datos  no_nulos_%  nulos_%  nulos\n",
       "0           item_id  [<class 'int'>]       100.0      0.0      0\n",
       "1         item_name  [<class 'str'>]       100.0      0.0      0\n",
       "2  playtime_forever  [<class 'int'>]       100.0      0.0      0\n",
       "3           user_id  [<class 'str'>]       100.0      0.0      0\n",
       "4       items_count  [<class 'int'>]       100.0      0.0      0\n",
       "5          steam_id  [<class 'int'>]       100.0      0.0      0"
      ]
     },
     "execution_count": 31,
     "metadata": {},
     "output_type": "execute_result"
    }
   ],
   "source": [
    "herramientas.verifica_tipo_y_nulos(df_items)"
   ]
  },
  {
   "cell_type": "markdown",
   "metadata": {},
   "source": [
    "Verifico duplicados "
   ]
  },
  {
   "cell_type": "code",
   "execution_count": 32,
   "metadata": {},
   "outputs": [
    {
     "data": {
      "text/html": [
       "<div>\n",
       "<style scoped>\n",
       "    .dataframe tbody tr th:only-of-type {\n",
       "        vertical-align: middle;\n",
       "    }\n",
       "\n",
       "    .dataframe tbody tr th {\n",
       "        vertical-align: top;\n",
       "    }\n",
       "\n",
       "    .dataframe thead th {\n",
       "        text-align: right;\n",
       "    }\n",
       "</style>\n",
       "<table border=\"1\" class=\"dataframe\">\n",
       "  <thead>\n",
       "    <tr style=\"text-align: right;\">\n",
       "      <th></th>\n",
       "      <th>developer</th>\n",
       "      <th>id</th>\n",
       "      <th>title</th>\n",
       "    </tr>\n",
       "  </thead>\n",
       "  <tbody>\n",
       "    <tr>\n",
       "      <th>0</th>\n",
       "      <td>Kotoshiro</td>\n",
       "      <td>761140</td>\n",
       "      <td>Lost Summoner Kitty</td>\n",
       "    </tr>\n",
       "    <tr>\n",
       "      <th>1</th>\n",
       "      <td>Kotoshiro</td>\n",
       "      <td>761140</td>\n",
       "      <td>Lost Summoner Kitty</td>\n",
       "    </tr>\n",
       "    <tr>\n",
       "      <th>2</th>\n",
       "      <td>Kotoshiro</td>\n",
       "      <td>761140</td>\n",
       "      <td>Lost Summoner Kitty</td>\n",
       "    </tr>\n",
       "    <tr>\n",
       "      <th>3</th>\n",
       "      <td>Kotoshiro</td>\n",
       "      <td>761140</td>\n",
       "      <td>Lost Summoner Kitty</td>\n",
       "    </tr>\n",
       "    <tr>\n",
       "      <th>4</th>\n",
       "      <td>Kotoshiro</td>\n",
       "      <td>761140</td>\n",
       "      <td>Lost Summoner Kitty</td>\n",
       "    </tr>\n",
       "    <tr>\n",
       "      <th>...</th>\n",
       "      <td>...</td>\n",
       "      <td>...</td>\n",
       "      <td>...</td>\n",
       "    </tr>\n",
       "    <tr>\n",
       "      <th>71546</th>\n",
       "      <td>Laush Dmitriy Sergeevich</td>\n",
       "      <td>610660</td>\n",
       "      <td>Russian Roads</td>\n",
       "    </tr>\n",
       "    <tr>\n",
       "      <th>71547</th>\n",
       "      <td>Laush Dmitriy Sergeevich</td>\n",
       "      <td>610660</td>\n",
       "      <td>Russian Roads</td>\n",
       "    </tr>\n",
       "    <tr>\n",
       "      <th>71548</th>\n",
       "      <td>Laush Dmitriy Sergeevich</td>\n",
       "      <td>610660</td>\n",
       "      <td>Russian Roads</td>\n",
       "    </tr>\n",
       "    <tr>\n",
       "      <th>71549</th>\n",
       "      <td>xropi,stev3ns</td>\n",
       "      <td>658870</td>\n",
       "      <td>EXIT 2 - Directions</td>\n",
       "    </tr>\n",
       "    <tr>\n",
       "      <th>71550</th>\n",
       "      <td>xropi,stev3ns</td>\n",
       "      <td>658870</td>\n",
       "      <td>EXIT 2 - Directions</td>\n",
       "    </tr>\n",
       "  </tbody>\n",
       "</table>\n",
       "<p>71551 rows × 3 columns</p>\n",
       "</div>"
      ],
      "text/plain": [
       "                      developer      id                title\n",
       "0                     Kotoshiro  761140  Lost Summoner Kitty\n",
       "1                     Kotoshiro  761140  Lost Summoner Kitty\n",
       "2                     Kotoshiro  761140  Lost Summoner Kitty\n",
       "3                     Kotoshiro  761140  Lost Summoner Kitty\n",
       "4                     Kotoshiro  761140  Lost Summoner Kitty\n",
       "...                         ...     ...                  ...\n",
       "71546  Laush Dmitriy Sergeevich  610660        Russian Roads\n",
       "71547  Laush Dmitriy Sergeevich  610660        Russian Roads\n",
       "71548  Laush Dmitriy Sergeevich  610660        Russian Roads\n",
       "71549             xropi,stev3ns  658870  EXIT 2 - Directions\n",
       "71550             xropi,stev3ns  658870  EXIT 2 - Directions\n",
       "\n",
       "[71551 rows x 3 columns]"
      ]
     },
     "execution_count": 32,
     "metadata": {},
     "output_type": "execute_result"
    }
   ],
   "source": [
    "df_games_m=df_games[['developer','id', 'title']]\n",
    "df_games_m"
   ]
  },
  {
   "cell_type": "markdown",
   "metadata": {},
   "source": [
    "Agrupo por titulo y aplico una función lambda a la columna ‘developer’. Esta función convierte cada entrada en la columna ‘developer’ a una cadena (si no lo es ya) y luego une todas las cadenas en el grupo con ', ’ entre ellas. Esto resulta en una única cadena que contiene todos los valores de ‘developer’ para cada título, separados por comas"
   ]
  },
  {
   "cell_type": "code",
   "execution_count": 33,
   "metadata": {},
   "outputs": [
    {
     "data": {
      "text/html": [
       "<div>\n",
       "<style scoped>\n",
       "    .dataframe tbody tr th:only-of-type {\n",
       "        vertical-align: middle;\n",
       "    }\n",
       "\n",
       "    .dataframe tbody tr th {\n",
       "        vertical-align: top;\n",
       "    }\n",
       "\n",
       "    .dataframe thead th {\n",
       "        text-align: right;\n",
       "    }\n",
       "</style>\n",
       "<table border=\"1\" class=\"dataframe\">\n",
       "  <thead>\n",
       "    <tr style=\"text-align: right;\">\n",
       "      <th></th>\n",
       "      <th>title</th>\n",
       "      <th>developer</th>\n",
       "    </tr>\n",
       "  </thead>\n",
       "  <tbody>\n",
       "    <tr>\n",
       "      <th>0</th>\n",
       "      <td>! That Bastard Is Trying To Steal Our Gold !</td>\n",
       "      <td>WTFOMGames, WTFOMGames, WTFOMGames, WTFOMGames</td>\n",
       "    </tr>\n",
       "    <tr>\n",
       "      <th>1</th>\n",
       "      <td>\"Barely Attuned Magic Thingy\" Staff</td>\n",
       "      <td>Wild Shadow Studios, Wild Shadow Studios, Wild...</td>\n",
       "    </tr>\n",
       "    <tr>\n",
       "      <th>2</th>\n",
       "      <td>\"Glow Ball\" - The billiard puzzle game</td>\n",
       "      <td>WTFOMGames, WTFOMGames, WTFOMGames, WTFOMGames</td>\n",
       "    </tr>\n",
       "    <tr>\n",
       "      <th>3</th>\n",
       "      <td>\"Just Another Day\" - Seduce Me Otome CD</td>\n",
       "      <td>Michaela Laws, Michaela Laws</td>\n",
       "    </tr>\n",
       "    <tr>\n",
       "      <th>4</th>\n",
       "      <td>\"Lethargic Sentience\" Wand</td>\n",
       "      <td>Wild Shadow Studios, Wild Shadow Studios, Wild...</td>\n",
       "    </tr>\n",
       "    <tr>\n",
       "      <th>...</th>\n",
       "      <td>...</td>\n",
       "      <td>...</td>\n",
       "    </tr>\n",
       "    <tr>\n",
       "      <th>28823</th>\n",
       "      <td>（尘沙惑设定集）Lost in Secular Love - Concept Design ...</td>\n",
       "      <td>YETU GAME, YETU GAME, YETU GAME, YETU GAME</td>\n",
       "    </tr>\n",
       "    <tr>\n",
       "      <th>28824</th>\n",
       "      <td>４人打ちアクション麻雀 / ACTION MAHJONG</td>\n",
       "      <td>Mindware Co.,Ltd., Mindware Co.,Ltd., Mindware...</td>\n",
       "    </tr>\n",
       "    <tr>\n",
       "      <th>28825</th>\n",
       "      <td>＜/reality＞</td>\n",
       "      <td>Fancy Fish Games, Fancy Fish Games</td>\n",
       "    </tr>\n",
       "    <tr>\n",
       "      <th>28826</th>\n",
       "      <td>＜/reality＞ Original Soundtrack</td>\n",
       "      <td>Fancy Fish Games, Fancy Fish Games</td>\n",
       "    </tr>\n",
       "    <tr>\n",
       "      <th>28827</th>\n",
       "      <td>🔴 Circles</td>\n",
       "      <td>Jeroen Wimmers, Jeroen Wimmers</td>\n",
       "    </tr>\n",
       "  </tbody>\n",
       "</table>\n",
       "<p>28828 rows × 2 columns</p>\n",
       "</div>"
      ],
      "text/plain": [
       "                                                   title  \\\n",
       "0           ! That Bastard Is Trying To Steal Our Gold !   \n",
       "1                    \"Barely Attuned Magic Thingy\" Staff   \n",
       "2                 \"Glow Ball\" - The billiard puzzle game   \n",
       "3                \"Just Another Day\" - Seduce Me Otome CD   \n",
       "4                             \"Lethargic Sentience\" Wand   \n",
       "...                                                  ...   \n",
       "28823  （尘沙惑设定集）Lost in Secular Love - Concept Design ...   \n",
       "28824                       ４人打ちアクション麻雀 / ACTION MAHJONG   \n",
       "28825                                         ＜/reality＞   \n",
       "28826                     ＜/reality＞ Original Soundtrack   \n",
       "28827                                          🔴 Circles   \n",
       "\n",
       "                                               developer  \n",
       "0         WTFOMGames, WTFOMGames, WTFOMGames, WTFOMGames  \n",
       "1      Wild Shadow Studios, Wild Shadow Studios, Wild...  \n",
       "2         WTFOMGames, WTFOMGames, WTFOMGames, WTFOMGames  \n",
       "3                           Michaela Laws, Michaela Laws  \n",
       "4      Wild Shadow Studios, Wild Shadow Studios, Wild...  \n",
       "...                                                  ...  \n",
       "28823         YETU GAME, YETU GAME, YETU GAME, YETU GAME  \n",
       "28824  Mindware Co.,Ltd., Mindware Co.,Ltd., Mindware...  \n",
       "28825                 Fancy Fish Games, Fancy Fish Games  \n",
       "28826                 Fancy Fish Games, Fancy Fish Games  \n",
       "28827                     Jeroen Wimmers, Jeroen Wimmers  \n",
       "\n",
       "[28828 rows x 2 columns]"
      ]
     },
     "execution_count": 33,
     "metadata": {},
     "output_type": "execute_result"
    }
   ],
   "source": [
    "#Se agrupa por título y concatena las entradas de la columna 'rating'\n",
    "df_agrupado_con_developer = df_games_m.groupby('title')['developer'].apply(lambda x: ', '.join(x.astype(str))).reset_index()\n",
    "\n",
    "#Se visualiza la tabla\n",
    "df_agrupado_con_developer "
   ]
  },
  {
   "cell_type": "markdown",
   "metadata": {},
   "source": [
    "Verifico el tipo de dato y si existen nulos "
   ]
  },
  {
   "cell_type": "code",
   "execution_count": 34,
   "metadata": {},
   "outputs": [
    {
     "data": {
      "text/html": [
       "<div>\n",
       "<style scoped>\n",
       "    .dataframe tbody tr th:only-of-type {\n",
       "        vertical-align: middle;\n",
       "    }\n",
       "\n",
       "    .dataframe tbody tr th {\n",
       "        vertical-align: top;\n",
       "    }\n",
       "\n",
       "    .dataframe thead th {\n",
       "        text-align: right;\n",
       "    }\n",
       "</style>\n",
       "<table border=\"1\" class=\"dataframe\">\n",
       "  <thead>\n",
       "    <tr style=\"text-align: right;\">\n",
       "      <th></th>\n",
       "      <th>nombre_campo</th>\n",
       "      <th>tipo_datos</th>\n",
       "      <th>no_nulos_%</th>\n",
       "      <th>nulos_%</th>\n",
       "      <th>nulos</th>\n",
       "    </tr>\n",
       "  </thead>\n",
       "  <tbody>\n",
       "    <tr>\n",
       "      <th>0</th>\n",
       "      <td>title</td>\n",
       "      <td>[&lt;class 'str'&gt;]</td>\n",
       "      <td>100.0</td>\n",
       "      <td>0.0</td>\n",
       "      <td>0</td>\n",
       "    </tr>\n",
       "    <tr>\n",
       "      <th>1</th>\n",
       "      <td>developer</td>\n",
       "      <td>[&lt;class 'str'&gt;]</td>\n",
       "      <td>100.0</td>\n",
       "      <td>0.0</td>\n",
       "      <td>0</td>\n",
       "    </tr>\n",
       "  </tbody>\n",
       "</table>\n",
       "</div>"
      ],
      "text/plain": [
       "  nombre_campo       tipo_datos  no_nulos_%  nulos_%  nulos\n",
       "0        title  [<class 'str'>]       100.0      0.0      0\n",
       "1    developer  [<class 'str'>]       100.0      0.0      0"
      ]
     },
     "execution_count": 34,
     "metadata": {},
     "output_type": "execute_result"
    }
   ],
   "source": [
    "herramientas.verifica_tipo_y_nulos(df_agrupado_con_developer)"
   ]
  },
  {
   "cell_type": "markdown",
   "metadata": {},
   "source": [
    "Verifico la existencia de duplicados en todo el dataframe"
   ]
  },
  {
   "cell_type": "code",
   "execution_count": 35,
   "metadata": {},
   "outputs": [
    {
     "data": {
      "text/plain": [
       "False"
      ]
     },
     "execution_count": 35,
     "metadata": {},
     "output_type": "execute_result"
    }
   ],
   "source": [
    "df_agrupado_con_developer.duplicated().any()"
   ]
  },
  {
   "cell_type": "markdown",
   "metadata": {},
   "source": [
    "Crea un objeto CountVectorizer, que es una herramienta para convertir una colección de documentos de texto en una matriz de conteos de tokens. \n",
    "\n",
    "- **max_features = 2000**: Limita el número de características (palabras únicas) que el vectorizador tomará en cuenta, manteniendo solo las 2000 palabras más frecuentes.\n",
    "- **stop_words = \"english\"**: Le dice al vectorizador que ignore las palabras comunes en inglés (como ‘the’, ‘is’, ‘and’, etc.) que no aportan mucha información sobre el contenido del texto.\n",
    "\n",
    "Luego, el método **fit_transform** se aplica a la columna “developer”. Este método aprende el vocabulario de la colección de documentos (en este caso, los nombres de los desarrolladores) y devuelve una matriz donde cada fila corresponde a un documento y cada columna a una palabra del vocabulario. Las entradas de la matriz son el número de veces que cada palabra aparece en cada documento.\n",
    "\n",
    "El método toarray convierte la 'matriz dispersa' devuelta por **fit_transform** en una 'matriz densa' (un array de NumPy), y shape devuelve las dimensiones de esta matriz. La primera dimensión es el número de documentos (en este caso, el número de filas en df_agrupado_con_developer) y la segunda dimensión es el número de palabras en el vocabulario (hasta un máximo de 2000, como se especificó anteriormente)."
   ]
  },
  {
   "cell_type": "code",
   "execution_count": 36,
   "metadata": {},
   "outputs": [
    {
     "data": {
      "text/plain": [
       "(28828, 2000)"
      ]
     },
     "execution_count": 36,
     "metadata": {},
     "output_type": "execute_result"
    }
   ],
   "source": [
    "cv = CountVectorizer(max_features = 2000, stop_words=\"english\")\n",
    "cv.fit_transform(df_agrupado_con_developer[\"developer\"]).toarray().shape"
   ]
  },
  {
   "cell_type": "markdown",
   "metadata": {},
   "source": [
    "Este método **(vectors = cv.fit_transform(df_agrupado_con_developer[\"developer\"]))** aprende el vocabulario de la colección de documentos (en este caso, los nombres de los desarrolladores) y devuelve una matriz donde cada fila corresponde a un documento y cada columna a una palabra del vocabulario. Las entradas de la matriz son el número de veces que cada palabra aparece en cada documento.\n",
    "\n",
    " - **.toarray()**: Convierte la matriz dispersa devuelta por fit_transform en una matriz densa (un array de NumPy). \n",
    "\n"
   ]
  },
  {
   "cell_type": "code",
   "execution_count": 37,
   "metadata": {},
   "outputs": [
    {
     "data": {
      "text/plain": [
       "array([[0, 0, 0, ..., 0, 0, 0],\n",
       "       [0, 0, 0, ..., 0, 0, 0],\n",
       "       [0, 0, 0, ..., 0, 0, 0],\n",
       "       ...,\n",
       "       [0, 0, 0, ..., 0, 0, 0],\n",
       "       [0, 0, 0, ..., 0, 0, 0],\n",
       "       [0, 0, 0, ..., 0, 0, 0]], dtype=int64)"
      ]
     },
     "execution_count": 37,
     "metadata": {},
     "output_type": "execute_result"
    }
   ],
   "source": [
    "vectors = cv.fit_transform(df_agrupado_con_developer[\"developer\"]).toarray()\n",
    "vectors"
   ]
  },
  {
   "cell_type": "markdown",
   "metadata": {},
   "source": [
    "Esta función **(cosine_similarity(vectors))** calcula la similitud del coseno entre cada par de vectores en la matriz vectors. En este caso guarda la matriz de similitud del coseno en la variable similarity\n",
    "\n",
    "- **similarity[0]**: Muestra el primer elemento de la matriz de similitud del coseno, que es un vector que contiene las similitudes del coseno entre el primer vector en vectors y todos los demás vectores.\n"
   ]
  },
  {
   "cell_type": "code",
   "execution_count": 38,
   "metadata": {},
   "outputs": [
    {
     "data": {
      "text/plain": [
       "array([1., 0., 1., ..., 0., 0., 0.])"
      ]
     },
     "execution_count": 38,
     "metadata": {},
     "output_type": "execute_result"
    }
   ],
   "source": [
    "similarity = cosine_similarity(vectors)\n",
    "similarity[0]"
   ]
  },
  {
   "cell_type": "markdown",
   "metadata": {},
   "source": [
    "Por medio de la funcion **sorted** se obtendra una lista de las cinco tuplas que representan los cinco vectores más similares al primer vector, junto con sus índices originales y sus valores de similitud del coseno."
   ]
  },
  {
   "cell_type": "code",
   "execution_count": 39,
   "metadata": {},
   "outputs": [
    {
     "data": {
      "text/plain": [
       "[(2, 1.0), (10529, 1.0), (12432, 1.0), (21017, 1.0), (1, 0.0)]"
      ]
     },
     "execution_count": 39,
     "metadata": {},
     "output_type": "execute_result"
    }
   ],
   "source": [
    "sorted(list(enumerate(similarity[0])), reverse=True, key=lambda x:x[1])[1:6]"
   ]
  },
  {
   "cell_type": "markdown",
   "metadata": {},
   "source": [
    "La siguiente funcion (recomendacion) toma como entrada el nombre de un juego y devuelve una lista de juegos recomendados basándose en la similitud de los desarrolladores."
   ]
  },
  {
   "cell_type": "code",
   "execution_count": 40,
   "metadata": {},
   "outputs": [],
   "source": [
    "def recomendacion(game):\n",
    "    indice_juegos = df_agrupado_con_developer[df_agrupado_con_developer[\"title\"]==game].index[0]\n",
    "    distances = similarity[indice_juegos]\n",
    "    lista_juegos = sorted(list(enumerate(distances)), reverse=True, key=lambda x: x[1])[1:6]\n",
    "    recommended_titles = [df_agrupado_con_developer.iloc[i[0]]['title'] for i in lista_juegos]\n",
    "    return recommended_titles"
   ]
  },
  {
   "cell_type": "markdown",
   "metadata": {},
   "source": [
    "Aplico la función recomendacion a la columna ‘title’ del dataframe df_agrupado_con_developer y almacenando los resultados en una nueva columna llamada ‘model’.\n",
    "\n",
    "Luego de ejecutar este código, cada fila en df_agrupado_con_developer tendrá una nueva columna ‘model’ que contiene una lista de juegos recomendados para el título de esa fila.\n"
   ]
  },
  {
   "cell_type": "code",
   "execution_count": 41,
   "metadata": {},
   "outputs": [],
   "source": [
    "df_agrupado_con_developer['model']=df_agrupado_con_developer['title'].apply(recomendacion)"
   ]
  },
  {
   "cell_type": "markdown",
   "metadata": {},
   "source": [
    "Elimino  la columna 'developer '"
   ]
  },
  {
   "cell_type": "code",
   "execution_count": 42,
   "metadata": {},
   "outputs": [],
   "source": [
    "df_agrupado_con_developer_del=df_agrupado_con_developer.drop('developer', axis=1, inplace= True)"
   ]
  },
  {
   "cell_type": "markdown",
   "metadata": {},
   "source": [
    "Creamos un dataframe el cual nos traiga las columas 'id', y 'title' del dataframe df_games. Luego verificamos los valores duplicados del mismo"
   ]
  },
  {
   "cell_type": "code",
   "execution_count": 43,
   "metadata": {},
   "outputs": [
    {
     "data": {
      "text/html": [
       "<div>\n",
       "<style scoped>\n",
       "    .dataframe tbody tr th:only-of-type {\n",
       "        vertical-align: middle;\n",
       "    }\n",
       "\n",
       "    .dataframe tbody tr th {\n",
       "        vertical-align: top;\n",
       "    }\n",
       "\n",
       "    .dataframe thead th {\n",
       "        text-align: right;\n",
       "    }\n",
       "</style>\n",
       "<table border=\"1\" class=\"dataframe\">\n",
       "  <thead>\n",
       "    <tr style=\"text-align: right;\">\n",
       "      <th></th>\n",
       "      <th>id</th>\n",
       "      <th>title</th>\n",
       "    </tr>\n",
       "  </thead>\n",
       "  <tbody>\n",
       "    <tr>\n",
       "      <th>0</th>\n",
       "      <td>761140</td>\n",
       "      <td>Lost Summoner Kitty</td>\n",
       "    </tr>\n",
       "    <tr>\n",
       "      <th>5</th>\n",
       "      <td>643980</td>\n",
       "      <td>Ironbound</td>\n",
       "    </tr>\n",
       "    <tr>\n",
       "      <th>9</th>\n",
       "      <td>670290</td>\n",
       "      <td>Real Pool 3D - Poolians</td>\n",
       "    </tr>\n",
       "    <tr>\n",
       "      <th>14</th>\n",
       "      <td>767400</td>\n",
       "      <td>弹炸人2222</td>\n",
       "    </tr>\n",
       "    <tr>\n",
       "      <th>17</th>\n",
       "      <td>772540</td>\n",
       "      <td>Battle Royale Trainer</td>\n",
       "    </tr>\n",
       "    <tr>\n",
       "      <th>...</th>\n",
       "      <td>...</td>\n",
       "      <td>...</td>\n",
       "    </tr>\n",
       "    <tr>\n",
       "      <th>71535</th>\n",
       "      <td>745400</td>\n",
       "      <td>Kebab it Up!</td>\n",
       "    </tr>\n",
       "    <tr>\n",
       "      <th>71539</th>\n",
       "      <td>773640</td>\n",
       "      <td>Colony On Mars</td>\n",
       "    </tr>\n",
       "    <tr>\n",
       "      <th>71543</th>\n",
       "      <td>733530</td>\n",
       "      <td>LOGistICAL: South Africa</td>\n",
       "    </tr>\n",
       "    <tr>\n",
       "      <th>71546</th>\n",
       "      <td>610660</td>\n",
       "      <td>Russian Roads</td>\n",
       "    </tr>\n",
       "    <tr>\n",
       "      <th>71549</th>\n",
       "      <td>658870</td>\n",
       "      <td>EXIT 2 - Directions</td>\n",
       "    </tr>\n",
       "  </tbody>\n",
       "</table>\n",
       "<p>28828 rows × 2 columns</p>\n",
       "</div>"
      ],
      "text/plain": [
       "           id                     title\n",
       "0      761140       Lost Summoner Kitty\n",
       "5      643980                 Ironbound\n",
       "9      670290   Real Pool 3D - Poolians\n",
       "14     767400                   弹炸人2222\n",
       "17     772540     Battle Royale Trainer\n",
       "...       ...                       ...\n",
       "71535  745400              Kebab it Up!\n",
       "71539  773640            Colony On Mars\n",
       "71543  733530  LOGistICAL: South Africa\n",
       "71546  610660             Russian Roads\n",
       "71549  658870       EXIT 2 - Directions\n",
       "\n",
       "[28828 rows x 2 columns]"
      ]
     },
     "execution_count": 43,
     "metadata": {},
     "output_type": "execute_result"
    }
   ],
   "source": [
    "df_games_m_m=df_games_m[['id','title']]\n",
    "df_games_clean=df_games_m_m.drop_duplicates(subset='title',keep='first')\n",
    "df_games_clean"
   ]
  },
  {
   "cell_type": "markdown",
   "metadata": {},
   "source": [
    "Verifico la existencia de los duplicados de la columna 'title'"
   ]
  },
  {
   "cell_type": "code",
   "execution_count": 44,
   "metadata": {},
   "outputs": [
    {
     "data": {
      "text/plain": [
       "'No hay duplicados'"
      ]
     },
     "execution_count": 44,
     "metadata": {},
     "output_type": "execute_result"
    }
   ],
   "source": [
    "herramientas.verifica_duplicados_por_columna(df_games_clean,'title')"
   ]
  },
  {
   "cell_type": "markdown",
   "metadata": {},
   "source": [
    "Verifico la existencia de valores nulos y el tipo de dato "
   ]
  },
  {
   "cell_type": "code",
   "execution_count": 45,
   "metadata": {},
   "outputs": [
    {
     "data": {
      "text/html": [
       "<div>\n",
       "<style scoped>\n",
       "    .dataframe tbody tr th:only-of-type {\n",
       "        vertical-align: middle;\n",
       "    }\n",
       "\n",
       "    .dataframe tbody tr th {\n",
       "        vertical-align: top;\n",
       "    }\n",
       "\n",
       "    .dataframe thead th {\n",
       "        text-align: right;\n",
       "    }\n",
       "</style>\n",
       "<table border=\"1\" class=\"dataframe\">\n",
       "  <thead>\n",
       "    <tr style=\"text-align: right;\">\n",
       "      <th></th>\n",
       "      <th>nombre_campo</th>\n",
       "      <th>tipo_datos</th>\n",
       "      <th>no_nulos_%</th>\n",
       "      <th>nulos_%</th>\n",
       "      <th>nulos</th>\n",
       "    </tr>\n",
       "  </thead>\n",
       "  <tbody>\n",
       "    <tr>\n",
       "      <th>0</th>\n",
       "      <td>id</td>\n",
       "      <td>[&lt;class 'int'&gt;]</td>\n",
       "      <td>100.0</td>\n",
       "      <td>0.0</td>\n",
       "      <td>0</td>\n",
       "    </tr>\n",
       "    <tr>\n",
       "      <th>1</th>\n",
       "      <td>title</td>\n",
       "      <td>[&lt;class 'str'&gt;]</td>\n",
       "      <td>100.0</td>\n",
       "      <td>0.0</td>\n",
       "      <td>0</td>\n",
       "    </tr>\n",
       "  </tbody>\n",
       "</table>\n",
       "</div>"
      ],
      "text/plain": [
       "  nombre_campo       tipo_datos  no_nulos_%  nulos_%  nulos\n",
       "0           id  [<class 'int'>]       100.0      0.0      0\n",
       "1        title  [<class 'str'>]       100.0      0.0      0"
      ]
     },
     "execution_count": 45,
     "metadata": {},
     "output_type": "execute_result"
    }
   ],
   "source": [
    "herramientas.verifica_tipo_y_nulos(df_games_clean)"
   ]
  },
  {
   "cell_type": "markdown",
   "metadata": {},
   "source": [
    "Realizo un merge entre los dataframes, por la columna en comun 'title'"
   ]
  },
  {
   "cell_type": "code",
   "execution_count": 46,
   "metadata": {},
   "outputs": [
    {
     "data": {
      "text/html": [
       "<div>\n",
       "<style scoped>\n",
       "    .dataframe tbody tr th:only-of-type {\n",
       "        vertical-align: middle;\n",
       "    }\n",
       "\n",
       "    .dataframe tbody tr th {\n",
       "        vertical-align: top;\n",
       "    }\n",
       "\n",
       "    .dataframe thead th {\n",
       "        text-align: right;\n",
       "    }\n",
       "</style>\n",
       "<table border=\"1\" class=\"dataframe\">\n",
       "  <thead>\n",
       "    <tr style=\"text-align: right;\">\n",
       "      <th></th>\n",
       "      <th>title</th>\n",
       "      <th>model</th>\n",
       "      <th>id</th>\n",
       "    </tr>\n",
       "  </thead>\n",
       "  <tbody>\n",
       "    <tr>\n",
       "      <th>0</th>\n",
       "      <td>! That Bastard Is Trying To Steal Our Gold !</td>\n",
       "      <td>[\"Glow Ball\" - The billiard puzzle game, Gold ...</td>\n",
       "      <td>449940</td>\n",
       "    </tr>\n",
       "    <tr>\n",
       "      <th>1</th>\n",
       "      <td>\"Barely Attuned Magic Thingy\" Staff</td>\n",
       "      <td>[\"Lethargic Sentience\" Wand, \"Precisely Calibr...</td>\n",
       "      <td>308163</td>\n",
       "    </tr>\n",
       "    <tr>\n",
       "      <th>2</th>\n",
       "      <td>\"Glow Ball\" - The billiard puzzle game</td>\n",
       "      <td>[\"Glow Ball\" - The billiard puzzle game, Gold ...</td>\n",
       "      <td>388390</td>\n",
       "    </tr>\n",
       "    <tr>\n",
       "      <th>3</th>\n",
       "      <td>\"Just Another Day\" - Seduce Me Otome CD</td>\n",
       "      <td>[My Lady, Remember, Remember, \"Just Another Da...</td>\n",
       "      <td>454790</td>\n",
       "    </tr>\n",
       "    <tr>\n",
       "      <th>4</th>\n",
       "      <td>\"Lethargic Sentience\" Wand</td>\n",
       "      <td>[\"Lethargic Sentience\" Wand, \"Precisely Calibr...</td>\n",
       "      <td>308164</td>\n",
       "    </tr>\n",
       "    <tr>\n",
       "      <th>...</th>\n",
       "      <td>...</td>\n",
       "      <td>...</td>\n",
       "      <td>...</td>\n",
       "    </tr>\n",
       "    <tr>\n",
       "      <th>28823</th>\n",
       "      <td>（尘沙惑设定集）Lost in Secular Love - Concept Design ...</td>\n",
       "      <td>[PRICE - Original Soundtrack（原声OST）, PRICE Des...</td>\n",
       "      <td>541220</td>\n",
       "    </tr>\n",
       "    <tr>\n",
       "      <th>28824</th>\n",
       "      <td>４人打ちアクション麻雀 / ACTION MAHJONG</td>\n",
       "      <td>[HEIANKYO ALIEN / 平安京エイリアン, Pinball Parlor, SP...</td>\n",
       "      <td>575810</td>\n",
       "    </tr>\n",
       "    <tr>\n",
       "      <th>28825</th>\n",
       "      <td>＜/reality＞</td>\n",
       "      <td>[ADventure Lib Original Soundtrack, Deity Ques...</td>\n",
       "      <td>562280</td>\n",
       "    </tr>\n",
       "    <tr>\n",
       "      <th>28826</th>\n",
       "      <td>＜/reality＞ Original Soundtrack</td>\n",
       "      <td>[ADventure Lib Original Soundtrack, Deity Ques...</td>\n",
       "      <td>626850</td>\n",
       "    </tr>\n",
       "    <tr>\n",
       "      <th>28827</th>\n",
       "      <td>🔴 Circles</td>\n",
       "      <td>[Invisible Apartment, Invisible Apartment - So...</td>\n",
       "      <td>460250</td>\n",
       "    </tr>\n",
       "  </tbody>\n",
       "</table>\n",
       "<p>28828 rows × 3 columns</p>\n",
       "</div>"
      ],
      "text/plain": [
       "                                                   title  \\\n",
       "0           ! That Bastard Is Trying To Steal Our Gold !   \n",
       "1                    \"Barely Attuned Magic Thingy\" Staff   \n",
       "2                 \"Glow Ball\" - The billiard puzzle game   \n",
       "3                \"Just Another Day\" - Seduce Me Otome CD   \n",
       "4                             \"Lethargic Sentience\" Wand   \n",
       "...                                                  ...   \n",
       "28823  （尘沙惑设定集）Lost in Secular Love - Concept Design ...   \n",
       "28824                       ４人打ちアクション麻雀 / ACTION MAHJONG   \n",
       "28825                                         ＜/reality＞   \n",
       "28826                     ＜/reality＞ Original Soundtrack   \n",
       "28827                                          🔴 Circles   \n",
       "\n",
       "                                                   model      id  \n",
       "0      [\"Glow Ball\" - The billiard puzzle game, Gold ...  449940  \n",
       "1      [\"Lethargic Sentience\" Wand, \"Precisely Calibr...  308163  \n",
       "2      [\"Glow Ball\" - The billiard puzzle game, Gold ...  388390  \n",
       "3      [My Lady, Remember, Remember, \"Just Another Da...  454790  \n",
       "4      [\"Lethargic Sentience\" Wand, \"Precisely Calibr...  308164  \n",
       "...                                                  ...     ...  \n",
       "28823  [PRICE - Original Soundtrack（原声OST）, PRICE Des...  541220  \n",
       "28824  [HEIANKYO ALIEN / 平安京エイリアン, Pinball Parlor, SP...  575810  \n",
       "28825  [ADventure Lib Original Soundtrack, Deity Ques...  562280  \n",
       "28826  [ADventure Lib Original Soundtrack, Deity Ques...  626850  \n",
       "28827  [Invisible Apartment, Invisible Apartment - So...  460250  \n",
       "\n",
       "[28828 rows x 3 columns]"
      ]
     },
     "execution_count": 46,
     "metadata": {},
     "output_type": "execute_result"
    }
   ],
   "source": [
    "df_merge=pd.merge(df_agrupado_con_developer,df_games_clean, on='title', how='inner')\n",
    "df_merge"
   ]
  },
  {
   "cell_type": "markdown",
   "metadata": {},
   "source": [
    "Verifico la existencia de nulos "
   ]
  },
  {
   "cell_type": "code",
   "execution_count": 47,
   "metadata": {},
   "outputs": [
    {
     "data": {
      "text/html": [
       "<div>\n",
       "<style scoped>\n",
       "    .dataframe tbody tr th:only-of-type {\n",
       "        vertical-align: middle;\n",
       "    }\n",
       "\n",
       "    .dataframe tbody tr th {\n",
       "        vertical-align: top;\n",
       "    }\n",
       "\n",
       "    .dataframe thead th {\n",
       "        text-align: right;\n",
       "    }\n",
       "</style>\n",
       "<table border=\"1\" class=\"dataframe\">\n",
       "  <thead>\n",
       "    <tr style=\"text-align: right;\">\n",
       "      <th></th>\n",
       "      <th>nombre_campo</th>\n",
       "      <th>tipo_datos</th>\n",
       "      <th>no_nulos_%</th>\n",
       "      <th>nulos_%</th>\n",
       "      <th>nulos</th>\n",
       "    </tr>\n",
       "  </thead>\n",
       "  <tbody>\n",
       "    <tr>\n",
       "      <th>0</th>\n",
       "      <td>title</td>\n",
       "      <td>[&lt;class 'str'&gt;]</td>\n",
       "      <td>100.0</td>\n",
       "      <td>0.0</td>\n",
       "      <td>0</td>\n",
       "    </tr>\n",
       "    <tr>\n",
       "      <th>1</th>\n",
       "      <td>model</td>\n",
       "      <td>[&lt;class 'list'&gt;]</td>\n",
       "      <td>100.0</td>\n",
       "      <td>0.0</td>\n",
       "      <td>0</td>\n",
       "    </tr>\n",
       "    <tr>\n",
       "      <th>2</th>\n",
       "      <td>id</td>\n",
       "      <td>[&lt;class 'int'&gt;]</td>\n",
       "      <td>100.0</td>\n",
       "      <td>0.0</td>\n",
       "      <td>0</td>\n",
       "    </tr>\n",
       "  </tbody>\n",
       "</table>\n",
       "</div>"
      ],
      "text/plain": [
       "  nombre_campo        tipo_datos  no_nulos_%  nulos_%  nulos\n",
       "0        title   [<class 'str'>]       100.0      0.0      0\n",
       "1        model  [<class 'list'>]       100.0      0.0      0\n",
       "2           id   [<class 'int'>]       100.0      0.0      0"
      ]
     },
     "execution_count": 47,
     "metadata": {},
     "output_type": "execute_result"
    }
   ],
   "source": [
    "herramientas.verifica_tipo_y_nulos(df_merge)"
   ]
  },
  {
   "cell_type": "markdown",
   "metadata": {},
   "source": [
    "Del nuevo dataframe extraigo solo las columnas 'id' y 'model'"
   ]
  },
  {
   "cell_type": "code",
   "execution_count": 48,
   "metadata": {},
   "outputs": [
    {
     "data": {
      "text/html": [
       "<div>\n",
       "<style scoped>\n",
       "    .dataframe tbody tr th:only-of-type {\n",
       "        vertical-align: middle;\n",
       "    }\n",
       "\n",
       "    .dataframe tbody tr th {\n",
       "        vertical-align: top;\n",
       "    }\n",
       "\n",
       "    .dataframe thead th {\n",
       "        text-align: right;\n",
       "    }\n",
       "</style>\n",
       "<table border=\"1\" class=\"dataframe\">\n",
       "  <thead>\n",
       "    <tr style=\"text-align: right;\">\n",
       "      <th></th>\n",
       "      <th>id</th>\n",
       "      <th>model</th>\n",
       "    </tr>\n",
       "  </thead>\n",
       "  <tbody>\n",
       "    <tr>\n",
       "      <th>0</th>\n",
       "      <td>449940</td>\n",
       "      <td>[\"Glow Ball\" - The billiard puzzle game, Gold ...</td>\n",
       "    </tr>\n",
       "    <tr>\n",
       "      <th>1</th>\n",
       "      <td>308163</td>\n",
       "      <td>[\"Lethargic Sentience\" Wand, \"Precisely Calibr...</td>\n",
       "    </tr>\n",
       "    <tr>\n",
       "      <th>2</th>\n",
       "      <td>388390</td>\n",
       "      <td>[\"Glow Ball\" - The billiard puzzle game, Gold ...</td>\n",
       "    </tr>\n",
       "    <tr>\n",
       "      <th>3</th>\n",
       "      <td>454790</td>\n",
       "      <td>[My Lady, Remember, Remember, \"Just Another Da...</td>\n",
       "    </tr>\n",
       "    <tr>\n",
       "      <th>4</th>\n",
       "      <td>308164</td>\n",
       "      <td>[\"Lethargic Sentience\" Wand, \"Precisely Calibr...</td>\n",
       "    </tr>\n",
       "    <tr>\n",
       "      <th>...</th>\n",
       "      <td>...</td>\n",
       "      <td>...</td>\n",
       "    </tr>\n",
       "    <tr>\n",
       "      <th>28823</th>\n",
       "      <td>541220</td>\n",
       "      <td>[PRICE - Original Soundtrack（原声OST）, PRICE Des...</td>\n",
       "    </tr>\n",
       "    <tr>\n",
       "      <th>28824</th>\n",
       "      <td>575810</td>\n",
       "      <td>[HEIANKYO ALIEN / 平安京エイリアン, Pinball Parlor, SP...</td>\n",
       "    </tr>\n",
       "    <tr>\n",
       "      <th>28825</th>\n",
       "      <td>562280</td>\n",
       "      <td>[ADventure Lib Original Soundtrack, Deity Ques...</td>\n",
       "    </tr>\n",
       "    <tr>\n",
       "      <th>28826</th>\n",
       "      <td>626850</td>\n",
       "      <td>[ADventure Lib Original Soundtrack, Deity Ques...</td>\n",
       "    </tr>\n",
       "    <tr>\n",
       "      <th>28827</th>\n",
       "      <td>460250</td>\n",
       "      <td>[Invisible Apartment, Invisible Apartment - So...</td>\n",
       "    </tr>\n",
       "  </tbody>\n",
       "</table>\n",
       "<p>28828 rows × 2 columns</p>\n",
       "</div>"
      ],
      "text/plain": [
       "           id                                              model\n",
       "0      449940  [\"Glow Ball\" - The billiard puzzle game, Gold ...\n",
       "1      308163  [\"Lethargic Sentience\" Wand, \"Precisely Calibr...\n",
       "2      388390  [\"Glow Ball\" - The billiard puzzle game, Gold ...\n",
       "3      454790  [My Lady, Remember, Remember, \"Just Another Da...\n",
       "4      308164  [\"Lethargic Sentience\" Wand, \"Precisely Calibr...\n",
       "...       ...                                                ...\n",
       "28823  541220  [PRICE - Original Soundtrack（原声OST）, PRICE Des...\n",
       "28824  575810  [HEIANKYO ALIEN / 平安京エイリアン, Pinball Parlor, SP...\n",
       "28825  562280  [ADventure Lib Original Soundtrack, Deity Ques...\n",
       "28826  626850  [ADventure Lib Original Soundtrack, Deity Ques...\n",
       "28827  460250  [Invisible Apartment, Invisible Apartment - So...\n",
       "\n",
       "[28828 rows x 2 columns]"
      ]
     },
     "execution_count": 48,
     "metadata": {},
     "output_type": "execute_result"
    }
   ],
   "source": [
    "df_merge_id=df_merge[['id','model']]\n",
    "df_merge_id"
   ]
  },
  {
   "cell_type": "markdown",
   "metadata": {},
   "source": [
    "Guardamos el ultimo dataframe en un archivo parquet, el cual utilizaremos para realizar la consulta"
   ]
  },
  {
   "cell_type": "code",
   "execution_count": 49,
   "metadata": {},
   "outputs": [
    {
     "name": "stdout",
     "output_type": "stream",
     "text": [
      "Se guardó el archivo            id                                              model\n",
      "0      449940  [\"Glow Ball\" - The billiard puzzle game, Gold ...\n",
      "1      308163  [\"Lethargic Sentience\" Wand, \"Precisely Calibr...\n",
      "2      388390  [\"Glow Ball\" - The billiard puzzle game, Gold ...\n",
      "3      454790  [My Lady, Remember, Remember, \"Just Another Da...\n",
      "4      308164  [\"Lethargic Sentience\" Wand, \"Precisely Calibr...\n",
      "...       ...                                                ...\n",
      "28823  541220  [PRICE - Original Soundtrack（原声OST）, PRICE Des...\n",
      "28824  575810  [HEIANKYO ALIEN / 平安京エイリアン, Pinball Parlor, SP...\n",
      "28825  562280  [ADventure Lib Original Soundtrack, Deity Ques...\n",
      "28826  626850  [ADventure Lib Original Soundtrack, Deity Ques...\n",
      "28827  460250  [Invisible Apartment, Invisible Apartment - So...\n",
      "\n",
      "[28828 rows x 2 columns]\n"
     ]
    }
   ],
   "source": [
    "#Guarda el DataFrame en el archivo PARQUET\n",
    "df_merge_id.to_parquet('data/df_recomendacion.parquet')\n",
    "\n",
    "print(f'Se guardó el archivo {df_merge_id}')"
   ]
  },
  {
   "cell_type": "markdown",
   "metadata": {},
   "source": [
    "- **Funcion: recomendacion_juego (id)**"
   ]
  },
  {
   "cell_type": "markdown",
   "metadata": {},
   "source": [
    "La función recomendacion_juego(id:int) Ingresando el id de producto, deberíamos recibir una lista con 5 juegos recomendados similares al ingresado."
   ]
  },
  {
   "cell_type": "code",
   "execution_count": 50,
   "metadata": {},
   "outputs": [],
   "source": [
    "def recomendacion_juego(id:int):\n",
    "    # Filtra el DataFrame df_merge_id por el id proporcionado y obtiene el 'model' correspondiente\n",
    "    modelo = df_merge_id[df_merge_id['id'] == id]['model'].iloc[0]\n",
    "    \n",
    "    # Inicializa un diccionario vacío para almacenar las recomendaciones\n",
    "    recomendaciones_dict = {}\n",
    "    \n",
    "    # Si el modelo tiene elementos, procede a llenar el diccionario de recomendaciones\n",
    "    if len(modelo) > 0:\n",
    "        for i in range(len(modelo)):\n",
    "            # Agrega cada elemento del modelo al diccionario de recomendaciones\n",
    "            recomendaciones_dict[i + 1] = modelo[i]\n",
    "        # Devuelve el diccionario de recomendaciones\n",
    "        return recomendaciones_dict\n",
    "    else:\n",
    "        # Si el modelo no tiene elementos, devuelve un mensaje de error\n",
    "        return f\"No se encontró un modelo para el id {id}\"\n"
   ]
  },
  {
   "cell_type": "code",
   "execution_count": 51,
   "metadata": {},
   "outputs": [
    {
     "data": {
      "text/plain": [
       "{1: 'My Lady',\n",
       " 2: 'Remember, Remember',\n",
       " 3: '\"Just Another Day\" - Seduce Me Otome CD',\n",
       " 4: 'Seduce Me 2: The Demon War',\n",
       " 5: 'Seduce Me the Otome'}"
      ]
     },
     "execution_count": 51,
     "metadata": {},
     "output_type": "execute_result"
    }
   ],
   "source": [
    "recomendacion_juego(454790)"
   ]
  },
  {
   "cell_type": "markdown",
   "metadata": {},
   "source": [
    "Verifico la existencia de alguno de los juegos dentro del dataframe para verificar el correcto funcionamiento del modelo "
   ]
  },
  {
   "cell_type": "code",
   "execution_count": 52,
   "metadata": {},
   "outputs": [
    {
     "data": {
      "text/html": [
       "<div>\n",
       "<style scoped>\n",
       "    .dataframe tbody tr th:only-of-type {\n",
       "        vertical-align: middle;\n",
       "    }\n",
       "\n",
       "    .dataframe tbody tr th {\n",
       "        vertical-align: top;\n",
       "    }\n",
       "\n",
       "    .dataframe thead th {\n",
       "        text-align: right;\n",
       "    }\n",
       "</style>\n",
       "<table border=\"1\" class=\"dataframe\">\n",
       "  <thead>\n",
       "    <tr style=\"text-align: right;\">\n",
       "      <th></th>\n",
       "      <th>title</th>\n",
       "      <th>model</th>\n",
       "      <th>id</th>\n",
       "    </tr>\n",
       "  </thead>\n",
       "  <tbody>\n",
       "    <tr>\n",
       "      <th>15294</th>\n",
       "      <td>My Lady</td>\n",
       "      <td>[My Lady, Remember, Remember, \"Just Another Da...</td>\n",
       "      <td>457530</td>\n",
       "    </tr>\n",
       "  </tbody>\n",
       "</table>\n",
       "</div>"
      ],
      "text/plain": [
       "         title                                              model      id\n",
       "15294  My Lady  [My Lady, Remember, Remember, \"Just Another Da...  457530"
      ]
     },
     "execution_count": 52,
     "metadata": {},
     "output_type": "execute_result"
    }
   ],
   "source": [
    "df=df_merge[df_merge['title']==\"My Lady\"]\n",
    "df"
   ]
  }
 ],
 "metadata": {
  "kernelspec": {
   "display_name": "Python 3",
   "language": "python",
   "name": "python3"
  },
  "language_info": {
   "codemirror_mode": {
    "name": "ipython",
    "version": 3
   },
   "file_extension": ".py",
   "mimetype": "text/x-python",
   "name": "python",
   "nbconvert_exporter": "python",
   "pygments_lexer": "ipython3",
   "version": "3.11.6"
  }
 },
 "nbformat": 4,
 "nbformat_minor": 2
}
